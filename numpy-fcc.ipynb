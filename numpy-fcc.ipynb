{
 "cells": [
  {
   "cell_type": "code",
   "id": "initial_id",
   "metadata": {
    "collapsed": true,
    "ExecuteTime": {
     "end_time": "2024-12-19T09:45:43.446206Z",
     "start_time": "2024-12-19T09:45:43.284899Z"
    }
   },
   "source": [
    "import numpy as np\n",
    "print(\"NumPy version:\", np.__version__)"
   ],
   "outputs": [
    {
     "name": "stdout",
     "output_type": "stream",
     "text": [
      "NumPy version: 1.26.4\n"
     ]
    }
   ],
   "execution_count": 2
  },
  {
   "metadata": {},
   "cell_type": "markdown",
   "source": "## The Basics",
   "id": "9ce888e173c2ef63"
  },
  {
   "metadata": {
    "ExecuteTime": {
     "end_time": "2024-12-19T09:45:43.453978Z",
     "start_time": "2024-12-19T09:45:43.448728Z"
    }
   },
   "cell_type": "code",
   "source": [
    "# a = np.array([1, 2, 3, 4, 5])  # This is normal, without datatype mentioned\n",
    "a = np.array([1, 2, 3, 4, 5], dtype='int8')\n",
    "print(a)"
   ],
   "id": "ccfa0a3c44bc35a5",
   "outputs": [
    {
     "name": "stdout",
     "output_type": "stream",
     "text": [
      "[1 2 3 4 5]\n"
     ]
    }
   ],
   "execution_count": 3
  },
  {
   "metadata": {
    "ExecuteTime": {
     "end_time": "2024-12-19T09:45:43.463532Z",
     "start_time": "2024-12-19T09:45:43.454988Z"
    }
   },
   "cell_type": "code",
   "source": [
    "b = np.array([[1, 2, 3], [3.2, 5.23, 6.34]])\n",
    "print(b)"
   ],
   "id": "d066b64fd2767c23",
   "outputs": [
    {
     "name": "stdout",
     "output_type": "stream",
     "text": [
      "[[1.   2.   3.  ]\n",
      " [3.2  5.23 6.34]]\n"
     ]
    }
   ],
   "execution_count": 4
  },
  {
   "metadata": {
    "ExecuteTime": {
     "end_time": "2024-12-19T09:45:43.473807Z",
     "start_time": "2024-12-19T09:45:43.466316Z"
    }
   },
   "cell_type": "code",
   "source": [
    "# Get Dimension of an array\n",
    "print(a.ndim)\n",
    "print(b.ndim)"
   ],
   "id": "53a2aeaf4c3c366f",
   "outputs": [
    {
     "name": "stdout",
     "output_type": "stream",
     "text": [
      "1\n",
      "2\n"
     ]
    }
   ],
   "execution_count": 5
  },
  {
   "metadata": {
    "ExecuteTime": {
     "end_time": "2024-12-19T09:45:43.484351Z",
     "start_time": "2024-12-19T09:45:43.474820Z"
    }
   },
   "cell_type": "code",
   "source": [
    "# Shape of an array\n",
    "## It tells the rows and cols in (r, c) format\n",
    "b.shape"
   ],
   "id": "d7b489af16c9994a",
   "outputs": [
    {
     "data": {
      "text/plain": [
       "(2, 3)"
      ]
     },
     "execution_count": 6,
     "metadata": {},
     "output_type": "execute_result"
    }
   ],
   "execution_count": 6
  },
  {
   "metadata": {
    "ExecuteTime": {
     "end_time": "2024-12-19T09:45:43.493490Z",
     "start_time": "2024-12-19T09:45:43.486895Z"
    }
   },
   "cell_type": "code",
   "source": [
    "# Get DataType\n",
    "print(a.dtype)\n",
    "print(b.dtype)"
   ],
   "id": "3ea283e2307bfd98",
   "outputs": [
    {
     "name": "stdout",
     "output_type": "stream",
     "text": [
      "int8\n",
      "float64\n"
     ]
    }
   ],
   "execution_count": 7
  },
  {
   "metadata": {
    "ExecuteTime": {
     "end_time": "2024-12-19T09:45:43.501584Z",
     "start_time": "2024-12-19T09:45:43.496034Z"
    }
   },
   "cell_type": "code",
   "source": [
    "# Get Size\n",
    "print(a.itemsize)\n",
    "print(b.itemsize)\n",
    "\n",
    "## this tells byte size of each element"
   ],
   "id": "158ded58a20e253f",
   "outputs": [
    {
     "name": "stdout",
     "output_type": "stream",
     "text": [
      "1\n",
      "8\n"
     ]
    }
   ],
   "execution_count": 8
  },
  {
   "metadata": {
    "ExecuteTime": {
     "end_time": "2024-12-19T09:45:43.511749Z",
     "start_time": "2024-12-19T09:45:43.504839Z"
    }
   },
   "cell_type": "code",
   "source": [
    "# Get total size\n",
    "print(a.nbytes)\n",
    "print(b.nbytes)"
   ],
   "id": "e014046e9bcc63ae",
   "outputs": [
    {
     "name": "stdout",
     "output_type": "stream",
     "text": [
      "5\n",
      "48\n"
     ]
    }
   ],
   "execution_count": 9
  },
  {
   "metadata": {
    "ExecuteTime": {
     "end_time": "2024-12-19T09:45:43.537243Z",
     "start_time": "2024-12-19T09:45:43.531629Z"
    }
   },
   "cell_type": "code",
   "source": [
    "# Get a specific element\n",
    "print(b[0, 1])"
   ],
   "id": "1396fb799b179eac",
   "outputs": [
    {
     "name": "stdout",
     "output_type": "stream",
     "text": [
      "2.0\n"
     ]
    }
   ],
   "execution_count": 10
  },
  {
   "metadata": {
    "ExecuteTime": {
     "end_time": "2024-12-19T09:45:43.656097Z",
     "start_time": "2024-12-19T09:45:43.649568Z"
    }
   },
   "cell_type": "code",
   "source": [
    "# Get a specific row\n",
    "print(b[1, :])\n",
    "# Get a specific column\n",
    "print(b[:, 1])"
   ],
   "id": "92acd55c734ab1d7",
   "outputs": [
    {
     "name": "stdout",
     "output_type": "stream",
     "text": [
      "[3.2  5.23 6.34]\n",
      "[2.   5.23]\n"
     ]
    }
   ],
   "execution_count": 11
  },
  {
   "metadata": {},
   "cell_type": "markdown",
   "source": "## From the documentation",
   "id": "be6f1a2b8b717dcb"
  },
  {
   "metadata": {
    "ExecuteTime": {
     "end_time": "2024-12-19T09:45:43.705963Z",
     "start_time": "2024-12-19T09:45:43.698419Z"
    }
   },
   "cell_type": "code",
   "source": [
    "ar = np.arange(12)\n",
    "ar"
   ],
   "id": "ba1c58c4479534e8",
   "outputs": [
    {
     "data": {
      "text/plain": [
       "array([ 0,  1,  2,  3,  4,  5,  6,  7,  8,  9, 10, 11])"
      ]
     },
     "execution_count": 12,
     "metadata": {},
     "output_type": "execute_result"
    }
   ],
   "execution_count": 12
  },
  {
   "metadata": {
    "ExecuteTime": {
     "end_time": "2024-12-19T09:45:43.843473Z",
     "start_time": "2024-12-19T09:45:43.838462Z"
    }
   },
   "cell_type": "code",
   "source": [
    "ar = np.arange(2, 25, 2)  # arange(startValue, endValue-excl, step)\n",
    "print(ar)"
   ],
   "id": "34647025414a78f3",
   "outputs": [
    {
     "name": "stdout",
     "output_type": "stream",
     "text": [
      "[ 2  4  6  8 10 12 14 16 18 20 22 24]\n"
     ]
    }
   ],
   "execution_count": 13
  },
  {
   "metadata": {
    "ExecuteTime": {
     "end_time": "2024-12-19T09:45:43.891255Z",
     "start_time": "2024-12-19T09:45:43.884756Z"
    }
   },
   "cell_type": "code",
   "source": [
    "# For linear spacing\n",
    "arr = np.linspace(0, 20, num=12) ## linspace(startVal, endVal-incl, total-number-of-elements)\n",
    "print(arr)"
   ],
   "id": "988f71218d7fb968",
   "outputs": [
    {
     "name": "stdout",
     "output_type": "stream",
     "text": [
      "[ 0.          1.81818182  3.63636364  5.45454545  7.27272727  9.09090909\n",
      " 10.90909091 12.72727273 14.54545455 16.36363636 18.18181818 20.        ]\n"
     ]
    }
   ],
   "execution_count": 14
  },
  {
   "metadata": {
    "ExecuteTime": {
     "end_time": "2024-12-19T09:45:43.935616Z",
     "start_time": "2024-12-19T09:45:43.932550Z"
    }
   },
   "cell_type": "code",
   "source": "",
   "id": "dd91b80ef7e8e7f8",
   "outputs": [],
   "execution_count": 14
  }
 ],
 "metadata": {
  "kernelspec": {
   "display_name": "Python 3",
   "language": "python",
   "name": "python3"
  },
  "language_info": {
   "codemirror_mode": {
    "name": "ipython",
    "version": 2
   },
   "file_extension": ".py",
   "mimetype": "text/x-python",
   "name": "python",
   "nbconvert_exporter": "python",
   "pygments_lexer": "ipython2",
   "version": "2.7.6"
  }
 },
 "nbformat": 4,
 "nbformat_minor": 5
}
